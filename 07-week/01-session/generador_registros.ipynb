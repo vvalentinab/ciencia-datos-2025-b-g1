{
 "cells": [
  {
   "cell_type": "code",
   "execution_count": null,
   "id": "c3ace6fd",
   "metadata": {},
   "outputs": [],
   "source": []
  }
 ],
 "metadata": {},
 "nbformat": 4,
 "nbformat_minor": 5
}
