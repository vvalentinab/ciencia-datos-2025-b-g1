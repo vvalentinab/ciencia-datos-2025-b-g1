{
 "cells": [
  {
   "cell_type": "markdown",
   "id": "87e2af69",
   "metadata": {},
   "source": [
    "{\n",
    "  \"01\": {\n",
    "    \"Codigo\": \"PG-G001\",\n",
    "    \"Nombre\": \"Ingeniería de Sistemas\",\n",
    "    \"Registro Calificado\": \"RC-2020-IS-001\",\n",
    "    \"Cantidad Semestre\": 9,\n",
    "    \"Cantidad Profesor\":7\n",
    "  },\n",
    "  \"02\": {\n",
    "    \"Codigo\": \"PG-G002\",\n",
    "    \"Nombre\": \"Ingeniería de INDUSTRIAL\",\n",
    "    \"Registro Calificado\": \"RC-2020-IS-021\",\n",
    "    \"Cantidad Semestre\": 9,\n",
    "    \"Profesores\":11,\n",
    "    \"Canitdad Laloratorio\":4\n",
    "  },\n",
    "  \"03\": {\n",
    "    \"Codigo\": \"PG-G003\",\n",
    "    \"Nombre\": \"Ingeniería de Macatrónica\",\n",
    "    \"Registro Calificado\": \"RC-2020-IS-012\",\n",
    "    \"Cantidad Semestre\": 9\n",
    "  },\n",
    "  \"04\": {\n",
    "    \"Codigo\": \"PG-G004\",\n",
    "    \"Nombre\": \"Ingeniería de Ambiental\",\n",
    "    \"Registro Calificado\": \"RC-2021-IS-054\",\n",
    "    \"Cantidad Semestre\": 9\n",
    "  },\n",
    "  \"05\": {\n",
    "    \"Codigo\": \"PG-G005\",\n",
    "    \"Nombre\": \"Ingeniería de Energías Renovables\",\n",
    "    \"Registro Calificado\": \"RC-2021-IS-041\",\n",
    "    \"Cantidad Semestre\": 9\n",
    "  }\n",
    "}\n"
   ]
  }
 ],
 "metadata": {
  "language_info": {
   "name": "python"
  }
 },
 "nbformat": 4,
 "nbformat_minor": 5
}
