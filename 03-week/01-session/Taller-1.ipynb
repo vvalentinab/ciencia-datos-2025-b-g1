{
 "cells": [
  {
   "cell_type": "markdown",
   "id": "8f8dd248",
   "metadata": {},
   "source": [
    "# Taller 1: Introducción a la Ciencia de Datos\n",
    "\n",
    "### Datos del trabajo: \n",
    "- Autor: Jesús Ariel González Bonilla\n",
    "- Fecha: 23 de Agosto 2025\n",
    "- Materia: Ciencia de Datos\n",
    "----"
   ]
  },
  {
   "cell_type": "markdown",
   "id": "97493920",
   "metadata": {},
   "source": [
    "1. Definición de Ciencia de Datos:\n",
    "\n",
    "La Ciencia de Datos es una disciplina que combina métodos estadísticos, programación y conocimiento del dominio para extraer valor de los datos. Incluye todo el ciclo: recolección, limpieza, exploración, modelado, evaluación y comunicación de resultados para apoyar la toma de decisiones basada en evidencia."
   ]
  },
  {
   "cell_type": "markdown",
   "id": "5f00c7d0",
   "metadata": {},
   "source": [
    "2. Roles en la Ciencia de Datos\n",
    "\n",
    "- Científico/a de Datos: formula preguntas, construye modelos, comunica hallazgos.\n",
    "- Analista de Datos: realiza consultas, dashboards y análisis descriptivos.\n",
    "- Ingeniero/a de Datos: construye pipelines y plataformas para ingesta y procesamiento.\n",
    "- Ingeniero/a de Machine Learning: lleva modelos a producción y los mantiene.\n",
    "- Analista/Traductor/a de Negocio (BI/Product): conecta necesidades del negocio con los datos.\n",
    "- Arquitecto/a de Datos: diseña la arquitectura, gobernanza y calidad de datos."
   ]
  },
  {
   "cell_type": "markdown",
   "id": "04f0ddd8",
   "metadata": {},
   "source": [
    "3. ¿Qué son los dataset?\n",
    "\n",
    "Un dataset es una colección estructurada de datos, usualmente en forma de tabla (filas = registros, columnas = variables). Puede venir en formatos como CSV, Excel, JSON o bases de datos. Un buen dataset tiene metadatos (descripciones) y calidad adecuada para el análisis."
   ]
  },
  {
   "cell_type": "markdown",
   "id": "8324c9e7",
   "metadata": {},
   "source": [
    "4. Líneas de código para cargar un archivo (.xls/.xlsx/.csv u otro) y pasarlo a un DataFrame (df)\n",
    "\n",
    "Ejemplos en pandas:\n",
    "\n",
    "```python\n",
    "import pandas as pd\n",
    "\n",
    "# CSV\n",
    "df_csv = pd.read_csv('ruta/archivo.csv', encoding='utf-8')\n",
    "\n",
    "# Excel (hoja por nombre o índice)\n",
    "df_xlsx = pd.read_excel('ruta/archivo.xlsx', sheet_name='Hoja1')  # o sheet_name=0\n",
    "\n",
    "# JSON (registros por fila)\n",
    "df_json = pd.read_json('ruta/archivo.json', lines=False)\n",
    "\n",
    "# Desde URL (si es público)\n",
    "df_url = pd.read_csv('https://servidor/archivo.csv')\n",
    "\n",
    "# Desde un zip\n",
    "# pd.read_csv('ruta/datos.zip', compression='zip')\n",
    "\n",
    "# Vista rápida\n",
    "df_csv.head()\n",
    "```"
   ]
  },
  {
   "cell_type": "code",
   "execution_count": 1,
   "id": "6f85cbdb",
   "metadata": {},
   "outputs": [
    {
     "name": "stdout",
     "output_type": "stream",
     "text": [
      "Hola, mundo!\n"
     ]
    }
   ],
   "source": [
    "# Probar Python y definir un ejemplo mínimo\n",
    "print(\"Hola, mundo!\")\n",
    "\n",
    "# (Opcional) Ejemplo corto de carga si se desea aquí también\n",
    "# import pandas as pd\n",
    "# df_ejemplo = pd.DataFrame({'a':[1,2,3]})\n",
    "# df_ejemplo.head()"
   ]
  },
  {
   "cell_type": "markdown",
   "id": "f1258365",
   "metadata": {},
   "source": [
    "5. Generar una gráfica con el anterior `df`\n",
    "\n",
    "Crea una visualización simple para explorar el `df`. Por ejemplo, los 10 clientes con mayor `Valor Neto` total."
   ]
  },
  {
   "cell_type": "code",
   "execution_count": 2,
   "id": "af4849e9",
   "metadata": {},
   "outputs": [
    {
     "ename": "NameError",
     "evalue": "name 'df' is not defined",
     "output_type": "error",
     "traceback": [
      "\u001b[1;31m---------------------------------------------------------------------------\u001b[0m",
      "\u001b[1;31mNameError\u001b[0m                                 Traceback (most recent call last)",
      "Cell \u001b[1;32mIn[2], line 8\u001b[0m\n\u001b[0;32m      6\u001b[0m \u001b[38;5;66;03m# Asegurar tipos numéricos por si vienen como texto\u001b[39;00m\n\u001b[0;32m      7\u001b[0m \u001b[38;5;28;01mfor\u001b[39;00m col \u001b[38;5;129;01min\u001b[39;00m [\u001b[38;5;124m\"\u001b[39m\u001b[38;5;124mTotal\u001b[39m\u001b[38;5;124m\"\u001b[39m, \u001b[38;5;124m\"\u001b[39m\u001b[38;5;124mIVA (\u001b[39m\u001b[38;5;124m%\u001b[39m\u001b[38;5;124m)\u001b[39m\u001b[38;5;124m\"\u001b[39m, \u001b[38;5;124m\"\u001b[39m\u001b[38;5;124mDescuento (\u001b[39m\u001b[38;5;124m%\u001b[39m\u001b[38;5;124m)\u001b[39m\u001b[38;5;124m\"\u001b[39m, \u001b[38;5;124m\"\u001b[39m\u001b[38;5;124mValor Neto\u001b[39m\u001b[38;5;124m\"\u001b[39m]:\n\u001b[1;32m----> 8\u001b[0m     df[col] \u001b[38;5;241m=\u001b[39m pd\u001b[38;5;241m.\u001b[39mto_numeric(\u001b[43mdf\u001b[49m[col], errors\u001b[38;5;241m=\u001b[39m\u001b[38;5;124m\"\u001b[39m\u001b[38;5;124mcoerce\u001b[39m\u001b[38;5;124m\"\u001b[39m)\n\u001b[0;32m     10\u001b[0m \u001b[38;5;66;03m# Agregar por cliente y ordenar\u001b[39;00m\n\u001b[0;32m     11\u001b[0m top10 \u001b[38;5;241m=\u001b[39m (\n\u001b[0;32m     12\u001b[0m     df\u001b[38;5;241m.\u001b[39mgroupby(\u001b[38;5;124m\"\u001b[39m\u001b[38;5;124mCliente\u001b[39m\u001b[38;5;124m\"\u001b[39m, as_index\u001b[38;5;241m=\u001b[39m\u001b[38;5;28;01mFalse\u001b[39;00m)[\u001b[38;5;124m\"\u001b[39m\u001b[38;5;124mValor Neto\u001b[39m\u001b[38;5;124m\"\u001b[39m]\n\u001b[0;32m     13\u001b[0m       \u001b[38;5;241m.\u001b[39msum()\n\u001b[0;32m     14\u001b[0m       \u001b[38;5;241m.\u001b[39msort_values(\u001b[38;5;124m\"\u001b[39m\u001b[38;5;124mValor Neto\u001b[39m\u001b[38;5;124m\"\u001b[39m, ascending\u001b[38;5;241m=\u001b[39m\u001b[38;5;28;01mFalse\u001b[39;00m)\n\u001b[0;32m     15\u001b[0m       \u001b[38;5;241m.\u001b[39mhead(\u001b[38;5;241m10\u001b[39m)\n\u001b[0;32m     16\u001b[0m )\n",
      "\u001b[1;31mNameError\u001b[0m: name 'df' is not defined"
     ]
    }
   ],
   "source": [
    "# Usar df ya cargado en la celda anterior (contiene los datos del CSV)\n",
    "import pandas as pd\n",
    "import seaborn as sns\n",
    "import matplotlib.pyplot as plt\n",
    "\n",
    "# Asegurar tipos numéricos por si vienen como texto\n",
    "for col in [\"Total\", \"IVA (%)\", \"Descuento (%)\", \"Valor Neto\"]:\n",
    "    df[col] = pd.to_numeric(df[col], errors=\"coerce\")\n",
    "\n",
    "# Agregar por cliente y ordenar\n",
    "top10 = (\n",
    "    df.groupby(\"Cliente\", as_index=False)[\"Valor Neto\"]\n",
    "      .sum()\n",
    "      .sort_values(\"Valor Neto\", ascending=False)\n",
    "      .head(10)\n",
    ")\n",
    "\n",
    "# Gráfico\n",
    "plt.figure(figsize=(10, 5))\n",
    "sns.barplot(data=top10, x=\"Valor Neto\", y=\"Cliente\", palette=\"Blues_r\")\n",
    "plt.title(\"Top 10 clientes por Valor Neto\")\n",
    "plt.xlabel(\"Valor Neto (suma)\")\n",
    "plt.ylabel(\"Cliente\")\n",
    "plt.tight_layout()\n",
    "plt.show()\n",
    "\n",
    "top10"
   ]
  }
 ],
 "metadata": {
  "kernelspec": {
   "display_name": "Python 3",
   "language": "python",
   "name": "python3"
  },
  "language_info": {
   "codemirror_mode": {
    "name": "ipython",
    "version": 3
   },
   "file_extension": ".py",
   "mimetype": "text/x-python",
   "name": "python",
   "nbconvert_exporter": "python",
   "pygments_lexer": "ipython3",
   "version": "3.12.6"
  }
 },
 "nbformat": 4,
 "nbformat_minor": 5
}
