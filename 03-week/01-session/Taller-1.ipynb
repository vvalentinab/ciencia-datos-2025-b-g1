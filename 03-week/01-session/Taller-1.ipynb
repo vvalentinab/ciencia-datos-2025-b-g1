{
 "cells": [
  {
   "cell_type": "markdown",
   "id": "8f8dd248",
   "metadata": {},
   "source": [
    "# Taller 1: Introducción a la Ciencia de Datos\n",
    "\n",
    "### Datos del trabajo: \n",
    "- Autor: Jesús Ariel González Bonilla\n",
    "- Fecha: 23 de Agosto 2025\n",
    "- Materia: Ciencia de Datos\n",
    "----"
   ]
  },
  {
   "cell_type": "markdown",
   "id": "97493920",
   "metadata": {},
   "source": [
    "1. Definición de Ciencia de Datos: "
   ]
  },
  {
   "cell_type": "markdown",
   "id": "5f00c7d0",
   "metadata": {},
   "source": [
    "2. Roles en la Ciencia de Datos"
   ]
  },
  {
   "cell_type": "markdown",
   "id": "04f0ddd8",
   "metadata": {},
   "source": [
    "3. ¿Qué son los dataset?"
   ]
  },
  {
   "cell_type": "markdown",
   "id": "8324c9e7",
   "metadata": {},
   "source": [
    "4. Lineas de código que permite cargar un (`.xlx`, `.xlsx`, `.csv` u otro formato de data); Luego pasar este documento a un `dataframe` (df)"
   ]
  },
  {
   "cell_type": "code",
   "execution_count": 2,
   "id": "6f85cbdb",
   "metadata": {},
   "outputs": [
    {
     "name": "stdout",
     "output_type": "stream",
     "text": [
      "Hola, mundo!\n"
     ]
    }
   ],
   "source": [
    "# Cargar y leer un archivo .csv \n",
    "\n",
    "# Probar python \n",
    "\n",
    "print(\"Hola, mundo!\")"
   ]
  },
  {
   "cell_type": "markdown",
   "id": "f1258365",
   "metadata": {},
   "source": [
    "5. Generar una gráfica con el anterior `df`"
   ]
  },
  {
   "cell_type": "code",
   "execution_count": null,
   "id": "af4849e9",
   "metadata": {},
   "outputs": [],
   "source": []
  }
 ],
 "metadata": {
  "kernelspec": {
   "display_name": "Python 3",
   "language": "python",
   "name": "python3"
  },
  "language_info": {
   "codemirror_mode": {
    "name": "ipython",
    "version": 3
   },
   "file_extension": ".py",
   "mimetype": "text/x-python",
   "name": "python",
   "nbconvert_exporter": "python",
   "pygments_lexer": "ipython3",
   "version": "3.12.6"
  }
 },
 "nbformat": 4,
 "nbformat_minor": 5
}
