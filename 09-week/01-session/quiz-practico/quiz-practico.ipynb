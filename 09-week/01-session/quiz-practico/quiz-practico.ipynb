{
 "cells": [
  {
   "cell_type": "markdown",
   "id": "9328ce84",
   "metadata": {},
   "source": [
    "# Ejercicio: Cálculo de Nota Definitiva a partir de un CSV\n",
    "\n",
    "Se tiene un archivo llamado **`quiz.csv`** con las siguientes columnas:\n",
    "\n",
    "- `FirstName` → Primer nombre del estudiante  \n",
    "- `LastName` → Apellido del estudiante  \n",
    "- `Exam` → Nota del examen (70%)  \n",
    "- `Workshop` → Nota del taller (25%)  \n",
    "- `SelfAssessment` → Nota de autoevaluación (5%)  \n",
    "\n",
    "## Objetivo\n",
    "\n",
    "1. Importar y cargar el dataset desde `quiz.csv`.  \n",
    "2. Calcular la **nota definitiva** aplicando los porcentajes:  \n",
    "   - `Exam * 0.70`  \n",
    "   - `Workshop * 0.25`  \n",
    "   - `SelfAssessment * 0.05`  \n",
    "3. Crear una nueva columna llamada **`FinalGrade`** con el resultado.  \n",
    "4. Concatenar `FirstName` y `LastName` en una columna llamada **`StudentName`**.  \n",
    "5. Graficar un diagrama de barras con:  \n",
    "   - Eje X → `FinalGrade`  \n",
    "   - Eje Y → `StudentName`  \n",
    "  \n",
    "6. Output\n",
    "\n",
    "![Output](output.png)\n"
   ]
  },
  {
   "cell_type": "code",
   "execution_count": null,
   "id": "41b2d202",
   "metadata": {},
   "outputs": [],
   "source": [
    "import pandas as pd\n",
    "import matplotlib.pyplot as plt\n",
    "\n",
    "df = pd.read_csv(\"quiz.csv\")\n",
    "df[\"FinalGrade\"] = df[\"Exam\"]*0.7 + df[\"Workshop\"]*0.25 + df[\"SelfAssessment\"]*0.05\n",
    "df[\"StudentName\"] = df[\"FirstName\"] + \" \" + df[\"LastName\"]\n",
    "\n",
    "plt.bar(df[\"FinalGrade\"], df[\"StudentName\"])\n",
    "plt.show() "
   ]
  }
 ],
 "metadata": {
  "kernelspec": {
   "display_name": "Python 3",
   "language": "python",
   "name": "python3"
  },
  "language_info": {
   "codemirror_mode": {
    "name": "ipython",
    "version": 3
   },
   "file_extension": ".py",
   "mimetype": "text/x-python",
   "name": "python",
   "nbconvert_exporter": "python",
   "pygments_lexer": "ipython3",
   "version": "3.12.6"
  }
 },
 "nbformat": 4,
 "nbformat_minor": 5
}
