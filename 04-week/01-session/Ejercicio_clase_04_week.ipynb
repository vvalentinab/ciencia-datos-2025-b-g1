{
  "nbformat": 4,
  "nbformat_minor": 0,
  "metadata": {
    "colab": {
      "provenance": []
    },
    "kernelspec": {
      "name": "python3",
      "display_name": "Python 3"
    },
    "language_info": {
      "name": "python"
    }
  },
  "cells": [
    {
      "cell_type": "code",
      "execution_count": 6,
      "metadata": {
        "colab": {
          "base_uri": "https://localhost:8080/"
        },
        "id": "EU3T6GdLVS1d",
        "outputId": "bdcd3324-a226-4636-a282-e70884a9468b"
      },
      "outputs": [
        {
          "output_type": "stream",
          "name": "stdout",
          "text": [
            "76.92307692307693\n",
            "76.92\n",
            "77.0\n",
            "76\n"
          ]
        }
      ],
      "source": [
        "#Parametros\n",
        "poblacion=26\n",
        "muestra=poblacion   #*0.8\n",
        "cantidad_semana=5\n",
        "\n",
        "#Datos de entrada\n",
        "semana_1=20/muestra   #se toma la muestra porque es mejor trabajar así:\n",
        "semana_2=12/muestra   #EJEMPLO: si se usa solo el 80% de la ppoblación, pues lo correcto sería trabajar con la muestra no con población\n",
        "semana_3=26/muestra\n",
        "semana_4=26/muestra\n",
        "semana_5=16/muestra\n",
        "\n",
        "#Obtener porcentaje total\n",
        "porcentaje_total= ( (semana_1+semana_2+semana_3+semana_4+semana_5)/cantidad_semana ) *100\n",
        "\n",
        "print(porcentaje_total)\n",
        "print(round(porcentaje_total,2)) #para redondear a dos decimales\n",
        "print(round(porcentaje_total,0)) #para redondear al número entero más cercano.\n",
        "print(int(porcentaje_total)) #para obtener solo el entero NO redondea\n",
        "\n",
        "\n",
        "\n",
        "\n",
        "#NOTA: ES SUPREMANETE IMPORTANTE QUE LOS CODIGOS SEAN MUY INTUITIVOS Y ENTRE MENOS LINEAS DE CODIGO MEJOR,\n",
        "#ENTENDER EL FUNCIONAMIENTO DEL CODIGO"
      ]
    },
    {
      "cell_type": "code",
      "source": [],
      "metadata": {
        "id": "sIULIRKrWG4g"
      },
      "execution_count": null,
      "outputs": []
    }
  ]
}