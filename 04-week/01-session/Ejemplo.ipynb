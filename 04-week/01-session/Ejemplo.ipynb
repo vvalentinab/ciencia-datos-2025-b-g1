{
 "cells": [
  {
   "cell_type": "code",
   "execution_count": null,
   "id": "0d8a4ca7",
   "metadata": {},
   "outputs": [
    {
     "name": "stdout",
     "output_type": "stream",
     "text": [
      "0.5\n"
     ]
    }
   ],
   "source": [
    "# Parámetros\n",
    "poblacion = 26\n",
    "muestra = poblacion\n",
    "cantidad_semana = 5\n",
    "\n",
    "#Datos de entrada\n",
    "semana_1 = 20\n",
    "semana_2 = 12\n",
    "semana_3 = 26\n",
    "semana_4 = 26\n",
    "semana_5 = 16\n",
    "\n",
    "# Obtener porcentajes.\n",
    "porcentaje_semana_1 = (semana_1/muestra)\n",
    "porcentaje_semana_2 = (semana_2/muestra)\n",
    "porcentaje_semana_3 = (semana_3/muestra)\n",
    "porcentaje_semana_4 = (semana_4/muestra)\n",
    "porcentaje_semana_5 = (semana_5/muestra)\n",
    "\n",
    "# Obtener porcentaje total\n",
    "porcentaje_total = ((porcentaje_semana_1 + porcentaje_semana_2 + porcentaje_semana_3 + porcentaje_semana_4 + porcentaje_semana_5)/cantidad_semana)*100\n",
    "\n",
    "#Salida\n",
    "# print(\"Asistencia Semanal:\")\n",
    "# print(\"--------------------\")\n",
    "# print(f\"Semana 1: {round(porcentaje_semana_1, 2)}%\")\n",
    "# print(f\"Semana 2: {round(porcentaje_semana_2, 2)}%\")\n",
    "# print(f\"Semana 3: {round(porcentaje_semana_3, 2)}%\")\n",
    "# print(f\"Semana 4: {round(porcentaje_semana_4, 2)}%\")\n",
    "# print(f\"Semana 5: {round(porcentaje_semana_5, 2)}%\")\n",
    "# print(\"--------------------\")\n",
    "print(f\"Porcentaje Total Promedio: {round(porcentaje_total, 2)}%\")"
   ]
  }
 ],
 "metadata": {
  "kernelspec": {
   "display_name": "Python 3",
   "language": "python",
   "name": "python3"
  },
  "language_info": {
   "codemirror_mode": {
    "name": "ipython",
    "version": 3
   },
   "file_extension": ".py",
   "mimetype": "text/x-python",
   "name": "python",
   "nbconvert_exporter": "python",
   "pygments_lexer": "ipython3",
   "version": "3.12.6"
  }
 },
 "nbformat": 4,
 "nbformat_minor": 5
}
