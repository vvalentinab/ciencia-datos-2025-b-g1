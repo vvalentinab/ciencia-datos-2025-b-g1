{
  "nbformat": 4,
  "nbformat_minor": 0,
  "metadata": {
    "colab": {
      "provenance": []
    },
    "kernelspec": {
      "name": "python3",
      "display_name": "Python 3"
    },
    "language_info": {
      "name": "python"
    }
  },
  "cells": [
    {
      "cell_type": "code",
      "execution_count": 9,
      "metadata": {
        "colab": {
          "base_uri": "https://localhost:8080/"
        },
        "id": "sHW4w944n_wW",
        "outputId": "d4885569-91ea-42ba-da16-cbb8e0a560ed"
      },
      "outputs": [
        {
          "output_type": "stream",
          "name": "stdout",
          "text": [
            "Digite un número: 0\n",
            "El número es cero\n"
          ]
        }
      ],
      "source": [
        "# Este código verifica si un número es positivo, negativo o cero.\n",
        "\n",
        "numero = int(input(\"Digite un número: \"))\n",
        "\n",
        "if numero == 0:\n",
        "  print(\"El número es cero\")\n",
        "else:\n",
        "  if  numero > 0:\n",
        "      print(\"El número es positivo\")\n",
        "  else:\n",
        "      print(\"El número es negativo\")"
      ]
    }
  ]
}
